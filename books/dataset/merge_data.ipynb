{
 "cells": [
  {
   "cell_type": "code",
   "id": "initial_id",
   "metadata": {
    "collapsed": true,
    "ExecuteTime": {
     "end_time": "2025-07-28T14:13:40.136406Z",
     "start_time": "2025-07-28T14:13:40.125488Z"
    }
   },
   "source": "import pandas as pd",
   "outputs": [],
   "execution_count": 5
  },
  {
   "metadata": {
    "ExecuteTime": {
     "end_time": "2025-07-28T14:13:40.145945Z",
     "start_time": "2025-07-28T14:13:40.141587Z"
    }
   },
   "cell_type": "code",
   "source": [
    "# Variables\n",
    "FILES = [\n",
    "    'mlfingerprint_data_vanilla_paper.csv',\n",
    "    'mlfingerprint_data_meteor_paper.csv',\n",
    "    'mlfingerprint_data_wurst_paper.csv'\n",
    "    # 'packet_features_meteor_2.csv',\n",
    "    # 'packet_features_meteor_3.csv',\n",
    "    # 'packet_features_meteor_4.csv',\n",
    "    # 'packet_features_meteor_5.csv'\n",
    "]\n",
    "CSV_FILE_OUT = 'packet_features_data.csv'"
   ],
   "id": "372c74a07c5b54a",
   "outputs": [],
   "execution_count": 6
  },
  {
   "metadata": {
    "ExecuteTime": {
     "end_time": "2025-07-28T14:13:41.223336Z",
     "start_time": "2025-07-28T14:13:40.170840Z"
    }
   },
   "cell_type": "code",
   "source": [
    "# Read CSV files and merge them\n",
    "df = pd.concat([pd.read_csv(file) for file in FILES], ignore_index=True)"
   ],
   "id": "f8c878248045bd2f",
   "outputs": [],
   "execution_count": 7
  },
  {
   "metadata": {
    "ExecuteTime": {
     "end_time": "2025-07-28T14:13:44.914259Z",
     "start_time": "2025-07-28T14:13:41.230886Z"
    }
   },
   "cell_type": "code",
   "source": [
    "# Save the merged DataFrame to a CSV file\n",
    "df.to_csv(CSV_FILE_OUT, index=False)"
   ],
   "id": "6ea5021f2014c0e0",
   "outputs": [],
   "execution_count": 8
  }
 ],
 "metadata": {
  "kernelspec": {
   "display_name": "Python 3",
   "language": "python",
   "name": "python3"
  },
  "language_info": {
   "codemirror_mode": {
    "name": "ipython",
    "version": 2
   },
   "file_extension": ".py",
   "mimetype": "text/x-python",
   "name": "python",
   "nbconvert_exporter": "python",
   "pygments_lexer": "ipython2",
   "version": "2.7.6"
  }
 },
 "nbformat": 4,
 "nbformat_minor": 5
}
