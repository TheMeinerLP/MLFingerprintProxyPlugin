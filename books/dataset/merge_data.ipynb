{
 "cells": [
  {
   "cell_type": "code",
   "id": "initial_id",
   "metadata": {
    "collapsed": true,
    "ExecuteTime": {
     "end_time": "2025-07-28T08:37:10.638439Z",
     "start_time": "2025-07-28T08:37:10.619260Z"
    }
   },
   "source": "import pandas as pd",
   "outputs": [],
   "execution_count": 4
  },
  {
   "metadata": {
    "ExecuteTime": {
     "end_time": "2025-07-28T08:37:10.650841Z",
     "start_time": "2025-07-28T08:37:10.649246Z"
    }
   },
   "cell_type": "code",
   "source": [
    "# Variables\n",
    "FILES = [\n",
    "    'mlfingerprint_data_vanilla.csv',\n",
    "    'mlfingerprint_data_meteor.csv'\n",
    "    # 'packet_features_meteor_2.csv',\n",
    "    # 'packet_features_meteor_3.csv',\n",
    "    # 'packet_features_meteor_4.csv',\n",
    "    # 'packet_features_meteor_5.csv'\n",
    "]\n",
    "CSV_FILE_OUT = 'packet_features_data.csv'"
   ],
   "id": "372c74a07c5b54a",
   "outputs": [],
   "execution_count": 5
  },
  {
   "metadata": {
    "ExecuteTime": {
     "end_time": "2025-07-28T08:37:10.689240Z",
     "start_time": "2025-07-28T08:37:10.658826Z"
    }
   },
   "cell_type": "code",
   "source": [
    "# Read CSV files and merge them\n",
    "df = pd.concat([pd.read_csv(file) for file in FILES], ignore_index=True)"
   ],
   "id": "f8c878248045bd2f",
   "outputs": [],
   "execution_count": 6
  },
  {
   "metadata": {
    "ExecuteTime": {
     "end_time": "2025-07-28T08:37:10.757439Z",
     "start_time": "2025-07-28T08:37:10.699088Z"
    }
   },
   "cell_type": "code",
   "source": [
    "# Save the merged DataFrame to a CSV file\n",
    "df.to_csv(CSV_FILE_OUT, index=False)"
   ],
   "id": "6ea5021f2014c0e0",
   "outputs": [],
   "execution_count": 7
  }
 ],
 "metadata": {
  "kernelspec": {
   "display_name": "Python 3",
   "language": "python",
   "name": "python3"
  },
  "language_info": {
   "codemirror_mode": {
    "name": "ipython",
    "version": 2
   },
   "file_extension": ".py",
   "mimetype": "text/x-python",
   "name": "python",
   "nbconvert_exporter": "python",
   "pygments_lexer": "ipython2",
   "version": "2.7.6"
  }
 },
 "nbformat": 4,
 "nbformat_minor": 5
}
