{
 "cells": [
  {
   "cell_type": "code",
   "id": "initial_id",
   "metadata": {
    "collapsed": true,
    "ExecuteTime": {
     "end_time": "2025-07-28T08:35:43.129892Z",
     "start_time": "2025-07-28T08:35:43.112161Z"
    }
   },
   "source": "import pandas as pd",
   "outputs": [],
   "execution_count": 6
  },
  {
   "metadata": {
    "ExecuteTime": {
     "end_time": "2025-07-28T08:35:43.145878Z",
     "start_time": "2025-07-28T08:35:43.143125Z"
    }
   },
   "cell_type": "code",
   "source": [
    "# Variables\n",
    "CSV_FILE = 'mlfingerprint_data_unlabeld.csv'\n",
    "CLIENT_LABEL = 'vanilla'\n",
    "HACK_CLIENT = True\n",
    "CSV_FILE_OUT = f'mlfingerprint_data_{CLIENT_LABEL}.csv'"
   ],
   "id": "56764afd6495e506",
   "outputs": [],
   "execution_count": 7
  },
  {
   "metadata": {
    "ExecuteTime": {
     "end_time": "2025-07-28T08:35:43.165013Z",
     "start_time": "2025-07-28T08:35:43.150175Z"
    }
   },
   "cell_type": "code",
   "source": [
    "# Read CSV file\n",
    "df = pd.read_csv(CSV_FILE)"
   ],
   "id": "81386a4b54698d0d",
   "outputs": [],
   "execution_count": 8
  },
  {
   "metadata": {
    "ExecuteTime": {
     "end_time": "2025-07-28T08:35:43.177762Z",
     "start_time": "2025-07-28T08:35:43.175868Z"
    }
   },
   "cell_type": "code",
   "source": [
    "# Set new label value\n",
    "df['label'] = CLIENT_LABEL\n",
    "df['hackClient'] = HACK_CLIENT"
   ],
   "id": "c2934cc561209226",
   "outputs": [],
   "execution_count": 9
  },
  {
   "metadata": {
    "ExecuteTime": {
     "end_time": "2025-07-28T08:35:43.217975Z",
     "start_time": "2025-07-28T08:35:43.185279Z"
    }
   },
   "cell_type": "code",
   "source": [
    "# Write to new CSV file\n",
    "df.to_csv(CSV_FILE_OUT, index=False)"
   ],
   "id": "9e4e2f5dc66f8e1a",
   "outputs": [],
   "execution_count": 10
  }
 ],
 "metadata": {
  "kernelspec": {
   "display_name": "Python 3",
   "language": "python",
   "name": "python3"
  },
  "language_info": {
   "codemirror_mode": {
    "name": "ipython",
    "version": 2
   },
   "file_extension": ".py",
   "mimetype": "text/x-python",
   "name": "python",
   "nbconvert_exporter": "python",
   "pygments_lexer": "ipython2",
   "version": "2.7.6"
  }
 },
 "nbformat": 4,
 "nbformat_minor": 5
}
