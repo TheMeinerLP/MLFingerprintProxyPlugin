{
 "cells": [
  {
   "cell_type": "code",
   "id": "initial_id",
   "metadata": {
    "collapsed": true,
    "ExecuteTime": {
     "end_time": "2025-07-28T14:13:08.438531Z",
     "start_time": "2025-07-28T14:13:08.422653Z"
    }
   },
   "source": "import pandas as pd",
   "outputs": [],
   "execution_count": 16
  },
  {
   "metadata": {
    "ExecuteTime": {
     "end_time": "2025-07-28T14:13:08.473420Z",
     "start_time": "2025-07-28T14:13:08.469695Z"
    }
   },
   "cell_type": "code",
   "source": [
    "# Variables\n",
    "CSV_FILE = 'mlfingerprint_data_unlabeld.csv'\n",
    "CLIENT_LABEL = 'wurst_2_paper'\n",
    "HACK_CLIENT = True\n",
    "CSV_FILE_OUT = f'mlfingerprint_data_{CLIENT_LABEL}.csv'"
   ],
   "id": "56764afd6495e506",
   "outputs": [],
   "execution_count": 17
  },
  {
   "metadata": {
    "ExecuteTime": {
     "end_time": "2025-07-28T14:13:08.870467Z",
     "start_time": "2025-07-28T14:13:08.481007Z"
    }
   },
   "cell_type": "code",
   "source": [
    "# Read CSV file\n",
    "df = pd.read_csv(CSV_FILE)"
   ],
   "id": "81386a4b54698d0d",
   "outputs": [],
   "execution_count": 18
  },
  {
   "metadata": {
    "ExecuteTime": {
     "end_time": "2025-07-28T14:13:08.886743Z",
     "start_time": "2025-07-28T14:13:08.881745Z"
    }
   },
   "cell_type": "code",
   "source": [
    "# Set new label value\n",
    "df['label'] = CLIENT_LABEL\n",
    "df['hackClient'] = HACK_CLIENT"
   ],
   "id": "c2934cc561209226",
   "outputs": [],
   "execution_count": 19
  },
  {
   "metadata": {
    "ExecuteTime": {
     "end_time": "2025-07-28T14:13:10.354485Z",
     "start_time": "2025-07-28T14:13:08.892879Z"
    }
   },
   "cell_type": "code",
   "source": [
    "# Write to new CSV file\n",
    "df.to_csv(CSV_FILE_OUT, index=False)"
   ],
   "id": "9e4e2f5dc66f8e1a",
   "outputs": [],
   "execution_count": 20
  }
 ],
 "metadata": {
  "kernelspec": {
   "display_name": "Python 3",
   "language": "python",
   "name": "python3"
  },
  "language_info": {
   "codemirror_mode": {
    "name": "ipython",
    "version": 2
   },
   "file_extension": ".py",
   "mimetype": "text/x-python",
   "name": "python",
   "nbconvert_exporter": "python",
   "pygments_lexer": "ipython2",
   "version": "2.7.6"
  }
 },
 "nbformat": 4,
 "nbformat_minor": 5
}
