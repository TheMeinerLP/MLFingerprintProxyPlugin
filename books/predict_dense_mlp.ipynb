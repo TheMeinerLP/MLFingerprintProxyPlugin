{
 "cells": [
  {
   "cell_type": "code",
   "execution_count": null,
   "id": "initial_id",
   "metadata": {
    "collapsed": true
   },
   "outputs": [],
   "source": [
    "import pandas as pd\n",
    "import matplotlib.pyplot as plt\n",
    "from tensorflow.keras.models import load_model\n",
    "import joblib"
   ]
  },
  {
   "metadata": {},
   "cell_type": "code",
   "outputs": [],
   "execution_count": null,
   "source": [
    "# Variables\n",
    "MODEL = 'dense_mlp.keras'\n",
    "SCALER = 'scaler.save'\n",
    "LABEL_ENCODER = 'label_encoder.joblib'\n",
    "CSV_FILE = 'dataset/mlfingerprint_data_unlabeld.csv'"
   ],
   "id": "aa0ba4926b672e86"
  },
  {
   "metadata": {},
   "cell_type": "code",
   "outputs": [],
   "execution_count": null,
   "source": [
    "# Load model, scaler, and label encoder\n",
    "model = load_model(MODEL)\n",
    "scaler = joblib.load(SCALER)\n",
    "le = joblib.load(LABEL_ENCODER)"
   ],
   "id": "984383b0a5941b5d"
  },
  {
   "metadata": {},
   "cell_type": "code",
   "outputs": [],
   "execution_count": null,
   "source": [
    "# Load unlabeled CSV file\n",
    "df = pd.read_csv(CSV_FILE)\n",
    "features = ['packetId', 'length', 'direction', 'iat', 'entropy']\n",
    "X = df[features].copy()\n",
    "X['direction'] = X['direction'].map({'INCOMING': 0, 'OUTGOING': 1})\n",
    "X_scaled = scaler.transform(X.values)"
   ],
   "id": "6b715881f631892"
  },
  {
   "metadata": {},
   "cell_type": "code",
   "outputs": [],
   "execution_count": null,
   "source": [
    "# Calculate probabilities\n",
    "y_proba = model.predict(X_scaled)  # shape = (n_samples, n_classes)\n",
    "mean_probas = y_proba.mean(axis=0)  # average probability per class\n",
    "\n",
    "labels = list(le.classes_)\n",
    "sizes = mean_probas"
   ],
   "id": "2ff4ba863f08a6d2"
  },
  {
   "metadata": {},
   "cell_type": "code",
   "outputs": [],
   "execution_count": null,
   "source": [
    "# Create pie chart\n",
    "fig, ax = plt.subplots(figsize=(6, 6), subplot_kw=dict(aspect=\"equal\"))\n",
    "wedges, texts, autotexts = ax.pie(\n",
    "    sizes,\n",
    "    labels=labels,\n",
    "    autopct='%1.1f%%',\n",
    "    startangle=90,\n",
    "    counterclock=False\n",
    ")\n",
    "ax.set_title(\"Average Model Probability per Label\")\n",
    "plt.show()"
   ],
   "id": "94c47bcfb121e401"
  }
 ],
 "metadata": {
  "kernelspec": {
   "display_name": "Python 3",
   "language": "python",
   "name": "python3"
  },
  "language_info": {
   "codemirror_mode": {
    "name": "ipython",
    "version": 2
   },
   "file_extension": ".py",
   "mimetype": "text/x-python",
   "name": "python",
   "nbconvert_exporter": "python",
   "pygments_lexer": "ipython2",
   "version": "2.7.6"
  }
 },
 "nbformat": 4,
 "nbformat_minor": 5
}
